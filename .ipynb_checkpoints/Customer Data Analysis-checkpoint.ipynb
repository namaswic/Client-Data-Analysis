{
 "cells": [
  {
   "cell_type": "markdown",
   "metadata": {},
   "source": [
    "Importing necessary libraries"
   ]
  },
  {
   "cell_type": "code",
   "execution_count": 1,
   "metadata": {},
   "outputs": [],
   "source": [
    "import numpy as np\n",
    "import matplotlib.pyplot as plt\n",
    "import pandas as pd"
   ]
  },
  {
   "cell_type": "markdown",
   "metadata": {},
   "source": [
    "Importing the dataset"
   ]
  },
  {
   "cell_type": "code",
   "execution_count": 2,
   "metadata": {},
   "outputs": [
    {
     "data": {
      "text/html": [
       "<div>\n",
       "<style scoped>\n",
       "    .dataframe tbody tr th:only-of-type {\n",
       "        vertical-align: middle;\n",
       "    }\n",
       "\n",
       "    .dataframe tbody tr th {\n",
       "        vertical-align: top;\n",
       "    }\n",
       "\n",
       "    .dataframe thead th {\n",
       "        text-align: right;\n",
       "    }\n",
       "</style>\n",
       "<table border=\"1\" class=\"dataframe\">\n",
       "  <thead>\n",
       "    <tr style=\"text-align: right;\">\n",
       "      <th></th>\n",
       "      <th>Account manager</th>\n",
       "      <th>Client Name</th>\n",
       "      <th>Date of Contact</th>\n",
       "    </tr>\n",
       "  </thead>\n",
       "  <tbody>\n",
       "    <tr>\n",
       "      <th>0</th>\n",
       "      <td>Milan Crona</td>\n",
       "      <td>Wyman, Farrell and Haag</td>\n",
       "      <td>2015-10-31</td>\n",
       "    </tr>\n",
       "    <tr>\n",
       "      <th>1</th>\n",
       "      <td>Aidan Pouros</td>\n",
       "      <td>Veum, McClure and Schuster</td>\n",
       "      <td>2013-12-15</td>\n",
       "    </tr>\n",
       "    <tr>\n",
       "      <th>2</th>\n",
       "      <td>Aidan Pouros</td>\n",
       "      <td>Veum, McClure and Schuster</td>\n",
       "      <td>2013-12-07</td>\n",
       "    </tr>\n",
       "    <tr>\n",
       "      <th>3</th>\n",
       "      <td>Milan Crona</td>\n",
       "      <td>Armstrong Group</td>\n",
       "      <td>2013-11-02</td>\n",
       "    </tr>\n",
       "    <tr>\n",
       "      <th>4</th>\n",
       "      <td>Aidan Pouros</td>\n",
       "      <td>Lueilwitz, Moore and Hahn</td>\n",
       "      <td>2013-12-25</td>\n",
       "    </tr>\n",
       "  </tbody>\n",
       "</table>\n",
       "</div>"
      ],
      "text/plain": [
       "  Account manager                 Client Name Date of Contact\n",
       "0     Milan Crona     Wyman, Farrell and Haag      2015-10-31\n",
       "1    Aidan Pouros  Veum, McClure and Schuster      2013-12-15\n",
       "2    Aidan Pouros  Veum, McClure and Schuster      2013-12-07\n",
       "3     Milan Crona             Armstrong Group      2013-11-02\n",
       "4    Aidan Pouros   Lueilwitz, Moore and Hahn      2013-12-25"
      ]
     },
     "execution_count": 2,
     "metadata": {},
     "output_type": "execute_result"
    }
   ],
   "source": [
    "dataset = pd.read_excel('HireArt - Data Analyst Exercise 10.12.17.xlsx')\n",
    "dataset.head()"
   ]
  },
  {
   "cell_type": "markdown",
   "metadata": {},
   "source": [
    "Number of unique clients"
   ]
  },
  {
   "cell_type": "code",
   "execution_count": 3,
   "metadata": {},
   "outputs": [
    {
     "data": {
      "text/plain": [
       "35"
      ]
     },
     "execution_count": 3,
     "metadata": {},
     "output_type": "execute_result"
    }
   ],
   "source": [
    "len(list(set(dataset['Client Name'])))"
   ]
  },
  {
   "cell_type": "markdown",
   "metadata": {},
   "source": [
    "Number of unique Account Managers"
   ]
  },
  {
   "cell_type": "code",
   "execution_count": 4,
   "metadata": {},
   "outputs": [
    {
     "data": {
      "text/plain": [
       "4"
      ]
     },
     "execution_count": 4,
     "metadata": {},
     "output_type": "execute_result"
    }
   ],
   "source": [
    "len(list(set(dataset['Account manager'])))"
   ]
  },
  {
   "cell_type": "markdown",
   "metadata": {},
   "source": [
    "Formatting dataset for analysis"
   ]
  },
  {
   "cell_type": "code",
   "execution_count": 5,
   "metadata": {},
   "outputs": [
    {
     "data": {
      "text/html": [
       "<div>\n",
       "<style scoped>\n",
       "    .dataframe tbody tr th:only-of-type {\n",
       "        vertical-align: middle;\n",
       "    }\n",
       "\n",
       "    .dataframe tbody tr th {\n",
       "        vertical-align: top;\n",
       "    }\n",
       "\n",
       "    .dataframe thead th {\n",
       "        text-align: right;\n",
       "    }\n",
       "</style>\n",
       "<table border=\"1\" class=\"dataframe\">\n",
       "  <thead>\n",
       "    <tr style=\"text-align: right;\">\n",
       "      <th></th>\n",
       "      <th>Account manager</th>\n",
       "      <th>Client Name</th>\n",
       "      <th>Date of Contact Year</th>\n",
       "      <th>Date of Contact Month</th>\n",
       "    </tr>\n",
       "    <tr>\n",
       "      <th>Date of Contact</th>\n",
       "      <th></th>\n",
       "      <th></th>\n",
       "      <th></th>\n",
       "      <th></th>\n",
       "    </tr>\n",
       "  </thead>\n",
       "  <tbody>\n",
       "    <tr>\n",
       "      <th>2013-10-03</th>\n",
       "      <td>Rigoberto White</td>\n",
       "      <td>Medhurst, Ankunding and Wolff</td>\n",
       "      <td>2013</td>\n",
       "      <td>10</td>\n",
       "    </tr>\n",
       "    <tr>\n",
       "      <th>2013-10-04</th>\n",
       "      <td>Rigoberto White</td>\n",
       "      <td>Fahey, Wunsch and Bashirian</td>\n",
       "      <td>2013</td>\n",
       "      <td>10</td>\n",
       "    </tr>\n",
       "    <tr>\n",
       "      <th>2013-10-04</th>\n",
       "      <td>Chauncey Dach</td>\n",
       "      <td>Donnelly-Champlin</td>\n",
       "      <td>2013</td>\n",
       "      <td>10</td>\n",
       "    </tr>\n",
       "    <tr>\n",
       "      <th>2013-10-04</th>\n",
       "      <td>Milan Crona</td>\n",
       "      <td>Orn, Russel and O'Reilly</td>\n",
       "      <td>2013</td>\n",
       "      <td>10</td>\n",
       "    </tr>\n",
       "    <tr>\n",
       "      <th>2013-10-05</th>\n",
       "      <td>Chauncey Dach</td>\n",
       "      <td>Koss Inc</td>\n",
       "      <td>2013</td>\n",
       "      <td>10</td>\n",
       "    </tr>\n",
       "  </tbody>\n",
       "</table>\n",
       "</div>"
      ],
      "text/plain": [
       "                 Account manager                    Client Name  \\\n",
       "Date of Contact                                                   \n",
       "2013-10-03       Rigoberto White  Medhurst, Ankunding and Wolff   \n",
       "2013-10-04       Rigoberto White    Fahey, Wunsch and Bashirian   \n",
       "2013-10-04         Chauncey Dach              Donnelly-Champlin   \n",
       "2013-10-04           Milan Crona       Orn, Russel and O'Reilly   \n",
       "2013-10-05         Chauncey Dach                       Koss Inc   \n",
       "\n",
       "                 Date of Contact Year  Date of Contact Month  \n",
       "Date of Contact                                               \n",
       "2013-10-03                       2013                     10  \n",
       "2013-10-04                       2013                     10  \n",
       "2013-10-04                       2013                     10  \n",
       "2013-10-04                       2013                     10  \n",
       "2013-10-05                       2013                     10  "
      ]
     },
     "execution_count": 5,
     "metadata": {},
     "output_type": "execute_result"
    }
   ],
   "source": [
    "dataset['Date of Contact'] =  pd.to_datetime(dataset['Date of Contact'], format='%Y-%m-%d')\n",
    "dataset=dataset.sort_values(by=['Date of Contact'])\n",
    "dataset['Date of Contact Year']=[i.year for i in dataset['Date of Contact']]\n",
    "dataset['Date of Contact Month']=[i.month for i in dataset['Date of Contact']]\n",
    "dataset.set_index('Date of Contact', inplace=True)\n",
    "dataset.head()"
   ]
  },
  {
   "cell_type": "markdown",
   "metadata": {},
   "source": [
    "Group by Month to check which month has the most number of contacts with the clients"
   ]
  },
  {
   "cell_type": "code",
   "execution_count": 6,
   "metadata": {},
   "outputs": [
    {
     "name": "stdout",
     "output_type": "stream",
     "text": [
      "1: 30\n",
      "2: 31\n",
      "3: 29\n",
      "4: 26\n",
      "5: 33\n",
      "6: 34\n",
      "7: 28\n",
      "8: 33\n",
      "9: 33\n",
      "10: 35\n",
      "11: 30\n",
      "12: 32\n"
     ]
    }
   ],
   "source": [
    "for i in dataset.groupby([\"Date of Contact Month\"]): \n",
    "    print(str(i[0])+\": \"+ str(len(set(i[1]['Client Name']))))"
   ]
  },
  {
   "cell_type": "markdown",
   "metadata": {},
   "source": [
    "We see that all clients were clients were contacted during the month of October"
   ]
  },
  {
   "cell_type": "markdown",
   "metadata": {},
   "source": [
    "But it might be possible that the union of the clients contacted during the years were combined to give us the information so we will need to cross check whether really the clients contacted during the month of October is always maximum for each year."
   ]
  },
  {
   "cell_type": "code",
   "execution_count": 7,
   "metadata": {},
   "outputs": [
    {
     "name": "stdout",
     "output_type": "stream",
     "text": [
      "(2013, 10): 31\n",
      "(2013, 11): 12\n",
      "(2013, 12): 15\n",
      "(2014, 1): 9\n",
      "(2014, 2): 11\n",
      "(2014, 3): 11\n",
      "(2014, 4): 11\n",
      "(2014, 5): 12\n",
      "(2014, 6): 19\n",
      "(2014, 7): 15\n",
      "(2014, 8): 17\n",
      "(2014, 9): 23\n",
      "(2014, 10): 28\n",
      "(2014, 11): 15\n",
      "(2014, 12): 15\n",
      "(2015, 1): 14\n",
      "(2015, 2): 15\n",
      "(2015, 3): 12\n",
      "(2015, 4): 12\n",
      "(2015, 5): 16\n",
      "(2015, 6): 14\n",
      "(2015, 7): 15\n",
      "(2015, 8): 15\n",
      "(2015, 9): 18\n",
      "(2015, 10): 28\n",
      "(2015, 11): 10\n",
      "(2015, 12): 14\n",
      "(2016, 1): 15\n",
      "(2016, 2): 14\n",
      "(2016, 3): 15\n",
      "(2016, 4): 11\n",
      "(2016, 5): 14\n",
      "(2016, 6): 15\n",
      "(2016, 7): 11\n",
      "(2016, 8): 14\n",
      "(2016, 9): 19\n",
      "(2016, 10): 25\n",
      "(2016, 11): 12\n",
      "(2016, 12): 17\n",
      "(2017, 1): 12\n",
      "(2017, 2): 13\n",
      "(2017, 3): 10\n",
      "(2017, 4): 9\n",
      "(2017, 5): 13\n",
      "(2017, 6): 13\n",
      "(2017, 7): 11\n",
      "(2017, 8): 13\n",
      "(2017, 9): 21\n"
     ]
    }
   ],
   "source": [
    "#Group by Month to check which month has the most number of contacts with the clients\n",
    "for i in dataset.groupby([\"Date of Contact Year\",\"Date of Contact Month\"]):\n",
    "    \n",
    "    print(str(i[0])+\": \"+ str(len(set(i[1]['Client Name']))))"
   ]
  },
  {
   "cell_type": "markdown",
   "metadata": {},
   "source": [
    "We can see for the information above that in the month of October in all the years the maximum number of clients were contacted."
   ]
  },
  {
   "cell_type": "markdown",
   "metadata": {},
   "source": [
    "Therefore, we can conclude that the October will be the best month for the product upgrade announcement"
   ]
  }
 ],
 "metadata": {
  "kernelspec": {
   "display_name": "Python 3",
   "language": "python",
   "name": "python3"
  },
  "language_info": {
   "codemirror_mode": {
    "name": "ipython",
    "version": 3
   },
   "file_extension": ".py",
   "mimetype": "text/x-python",
   "name": "python",
   "nbconvert_exporter": "python",
   "pygments_lexer": "ipython3",
   "version": "3.6.7"
  }
 },
 "nbformat": 4,
 "nbformat_minor": 2
}
